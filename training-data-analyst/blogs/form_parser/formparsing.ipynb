{
 "cells": [
  {
   "cell_type": "markdown",
   "metadata": {},
   "source": [
    "# Form Parsing using Google Cloud Document AI\n",
    "\n",
    "This notebook shows how to use Google Cloud Document AI to parse a campaign disclosure form.\n",
    "\n",
    "It accompanies this Medium article:\n",
    "https://medium.com/@lakshmanok/how-to-parse-forms-using-google-cloud-document-ai-68ad47e1c0ed"
   ]
  },
  {
   "cell_type": "markdown",
   "metadata": {},
   "source": [
    "### Document\n",
    "\n",
    "As an example, let's take this US election campaign disclosure form."
   ]
  },
  {
   "cell_type": "code",
   "execution_count": 2,
   "metadata": {},
   "outputs": [
    {
     "name": "stdout",
     "output_type": "stream",
     "text": [
      "scott_walker.pdf\n"
     ]
    }
   ],
   "source": [
    "!ls *.pdf"
   ]
  },
  {
   "cell_type": "code",
   "execution_count": 3,
   "metadata": {},
   "outputs": [
    {
     "data": {
      "text/html": [
       "\n",
       "        <iframe\n",
       "            width=\"600\"\n",
       "            height=\"300\"\n",
       "            src=\"./scott_walker.pdf\"\n",
       "            frameborder=\"0\"\n",
       "            allowfullscreen\n",
       "        ></iframe>\n",
       "        "
      ],
      "text/plain": [
       "<IPython.lib.display.IFrame at 0x7f2aaeaeba90>"
      ]
     },
     "execution_count": 3,
     "metadata": {},
     "output_type": "execute_result"
    }
   ],
   "source": [
    "from IPython.display import IFrame\n",
    "IFrame(\"./scott_walker.pdf\", width=600, height=300)"
   ]
  },
  {
   "cell_type": "markdown",
   "metadata": {},
   "source": [
    "## Upload to Cloud Storage\n",
    "\n",
    "Document AI works with documents on Cloud Storage, so let's upload the doc."
   ]
  },
  {
   "cell_type": "code",
   "execution_count": 4,
   "metadata": {},
   "outputs": [],
   "source": [
    "BUCKET=\"ai-analytics-solutions-kfpdemo\"  # CHANGE to a bucket that you own"
   ]
  },
  {
   "cell_type": "code",
   "execution_count": 6,
   "metadata": {},
   "outputs": [
    {
     "name": "stdout",
     "output_type": "stream",
     "text": [
      "Copying file://scott_walker.pdf [Content-Type=application/pdf]...\n",
      "/ [1 files][209.7 KiB/209.7 KiB]                                                \n",
      "Operation completed over 1 objects/209.7 KiB.                                    \n"
     ]
    }
   ],
   "source": [
    "!gsutil cp scott_walker.pdf gs://{BUCKET}/formparsing/scott_walker.pdf"
   ]
  },
  {
   "cell_type": "code",
   "execution_count": 19,
   "metadata": {},
   "outputs": [
    {
     "name": "stdout",
     "output_type": "stream",
     "text": [
      "gs://ai-analytics-solutions-kfpdemo/formparsing/scott_walker.pdf\n"
     ]
    }
   ],
   "source": [
    "!gsutil ls gs://{BUCKET}/formparsing/scott_walker.pdf"
   ]
  },
  {
   "cell_type": "markdown",
   "metadata": {},
   "source": [
    "## Enable Document AI\n",
    "\n",
    "1. First enable Document AI in your project by visiting\n",
    "https://console.developers.google.com/apis/api/documentai.googleapis.com/overview\n",
    "\n",
    "2. Find out who you are running as:"
   ]
  },
  {
   "cell_type": "code",
   "execution_count": 14,
   "metadata": {},
   "outputs": [
    {
     "name": "stdout",
     "output_type": "stream",
     "text": [
      "                  Credentialed Accounts\n",
      "ACTIVE  ACCOUNT\n",
      "*       379218021631-compute@developer.gserviceaccount.com\n",
      "\n",
      "To set the active account, run:\n",
      "    $ gcloud config set account `ACCOUNT`\n",
      "\n"
     ]
    }
   ],
   "source": [
    "!gcloud auth list"
   ]
  },
  {
   "cell_type": "markdown",
   "metadata": {},
   "source": [
    "3. Create a service account authorization by visiting\n",
    "https://console.cloud.google.com/iam-admin/serviceaccounts/create\n",
    "Give this service account Document AI Core Service Account authorization\n",
    "\n",
    "4. Give the above ACTIVE ACCOUNT the ability to use the service account you just created."
   ]
  },
  {
   "cell_type": "markdown",
   "metadata": {},
   "source": [
    "## Call Document AI"
   ]
  },
  {
   "cell_type": "code",
   "execution_count": 20,
   "metadata": {},
   "outputs": [
    {
     "name": "stdout",
     "output_type": "stream",
     "text": [
      "Sending the following request to Document AI in ai-analytics-solutions (us region), saving to response.json\n",
      "{\n",
      "   \"inputConfig\":{\n",
      "      \"gcsSource\":{\n",
      "         \"uri\":\"gs://ai-analytics-solutions-kfpdemo/formparsing/scott_walker.pdf\"\n",
      "      },\n",
      "      \"mimeType\":\"application/pdf\"\n",
      "   },\n",
      "   \"documentType\":\"general\",\n",
      "   \"formExtractionParams\":{\n",
      "      \"enabled\":true\n",
      "   }\n",
      "}\n"
     ]
    },
    {
     "name": "stderr",
     "output_type": "stream",
     "text": [
      "  % Total    % Received % Xferd  Average Speed   Time    Time     Time  Current\n",
      "                                 Dload  Upload   Total   Spent    Left  Speed\n",
      "100 3366k    0 3366k  100   246   832k     60  0:00:04  0:00:04 --:--:--  832k\n"
     ]
    }
   ],
   "source": [
    "%%bash\n",
    "PDF=\"gs://ai-analytics-solutions-kfpdemo/formparsing/scott_walker.pdf\" # CHANGE to your PDF file\n",
    "REGION=\"us\"  # change to EU if the bucket is in the EU\n",
    "\n",
    "cat <<EOM > request.json\n",
    "{\n",
    "   \"inputConfig\":{\n",
    "      \"gcsSource\":{\n",
    "         \"uri\":\"${PDF}\"\n",
    "      },\n",
    "      \"mimeType\":\"application/pdf\"\n",
    "   },\n",
    "   \"documentType\":\"general\",\n",
    "   \"formExtractionParams\":{\n",
    "      \"enabled\":true\n",
    "   }\n",
    "}\n",
    "EOM\n",
    "\n",
    "# Send request to Document AI.\n",
    "PROJECT=$(gcloud config get-value project)\n",
    "echo \"Sending the following request to Document AI in ${PROJECT} ($REGION region), saving to response.json\"\n",
    "cat request.json\n",
    "\n",
    "curl -X POST \\\n",
    "  -H \"Authorization: Bearer \"$(gcloud auth application-default print-access-token) \\\n",
    "  -H \"Content-Type: application/json; charset=utf-8\" \\\n",
    "  -d @request.json \\\n",
    "  https://${REGION}-documentai.googleapis.com/v1beta2/projects/${PROJECT}/locations/us/documents:process \\\n",
    "  > response.json"
   ]
  },
  {
   "cell_type": "code",
   "execution_count": 22,
   "metadata": {},
   "outputs": [
    {
     "name": "stdout",
     "output_type": "stream",
     "text": [
      "                }\n",
      "              ]\n",
      "            },\n",
      "            \"orientation\": \"PAGE_UP\"\n",
      "          }\n",
      "        }\n",
      "      ]\n",
      "    }\n",
      "  ]\n",
      "}\n"
     ]
    }
   ],
   "source": [
    "!tail response.json"
   ]
  },
  {
   "cell_type": "markdown",
   "metadata": {},
   "source": [
    "## Parse the response\n",
    "\n",
    "Let's use Python to parse the response and pull out specific fields.\n"
   ]
  },
  {
   "cell_type": "code",
   "execution_count": 4,
   "metadata": {},
   "outputs": [],
   "source": [
    "import json\n",
    "ifp = open('response.json')\n",
    "response = json.load(ifp)"
   ]
  },
  {
   "cell_type": "code",
   "execution_count": 29,
   "metadata": {},
   "outputs": [
    {
     "name": "stdout",
     "output_type": "stream",
     "text": [
      "10/09/2020 15:51\n",
      "Image# 202010099285076251\n",
      "PAGE 1/14\n",
      "7\n",
      "REPORT OF RECEIPTSFECAND DISBURSEMENTSFORM 3P\n"
     ]
    }
   ],
   "source": [
    "allText = response['text']\n",
    "print(allText[:100])"
   ]
  },
  {
   "cell_type": "markdown",
   "metadata": {},
   "source": [
    "### Option 1: Parsing blocks of text\n",
    "\n",
    "As an example, let's try to get the \"Cash on Hand\". This is in Page 2 and the answer is $75,931.36\n",
    "All the data in the document is the allText field. we just need to find the right starting and ending index\n",
    "for what we want to extract."
   ]
  },
  {
   "cell_type": "code",
   "execution_count": 30,
   "metadata": {},
   "outputs": [
    {
     "name": "stdout",
     "output_type": "stream",
     "text": [
      "1719\n"
     ]
    }
   ],
   "source": [
    "print(allText.index(\"CASH ON HAND\"))"
   ]
  },
  {
   "cell_type": "markdown",
   "metadata": {},
   "source": [
    "We know that \"Cash on Hand\" is on Page 2."
   ]
  },
  {
   "cell_type": "code",
   "execution_count": 33,
   "metadata": {},
   "outputs": [
    {
     "data": {
      "text/plain": [
       "{'layout': {'textAnchor': {'textSegments': [{'startIndex': '1716',\n",
       "     'endIndex': '1827'}]},\n",
       "  'confidence': 1,\n",
       "  'boundingPoly': {'normalizedVertices': [{'x': 0.068627454, 'y': 0.24873738},\n",
       "    {'x': 0.6764706, 'y': 0.24873738},\n",
       "    {'x': 0.6764706, 'y': 0.25757575},\n",
       "    {'x': 0.068627454, 'y': 0.25757575}]},\n",
       "  'orientation': 'PAGE_UP'}}"
      ]
     },
     "execution_count": 33,
     "metadata": {},
     "output_type": "execute_result"
    }
   ],
   "source": [
    "response['pages'][1]['blocks'][5]"
   ]
  },
  {
   "cell_type": "code",
   "execution_count": 34,
   "metadata": {},
   "outputs": [
    {
     "data": {
      "text/plain": [
       "{'startIndex': '1716', 'endIndex': '1827'}"
      ]
     },
     "execution_count": 34,
     "metadata": {},
     "output_type": "execute_result"
    }
   ],
   "source": [
    "response['pages'][1]['blocks'][5]['layout']['textAnchor']['textSegments'][0]"
   ]
  },
  {
   "cell_type": "code",
   "execution_count": 35,
   "metadata": {},
   "outputs": [
    {
     "data": {
      "text/plain": [
       "'6. CASH ON HAND AT BEGINNING OF REPORTING PERIOD .............................................................\\n'"
      ]
     },
     "execution_count": 35,
     "metadata": {},
     "output_type": "execute_result"
    }
   ],
   "source": [
    "startIndex = int(response['pages'][1]['blocks'][5]['layout']['textAnchor']['textSegments'][0]['startIndex'])\n",
    "endIndex = int(response['pages'][1]['blocks'][5]['layout']['textAnchor']['textSegments'][0]['endIndex'])\n",
    "allText[startIndex:endIndex]"
   ]
  },
  {
   "cell_type": "markdown",
   "metadata": {},
   "source": [
    "Cool, we are at the right part of the document! Let's get the next block, which should be the actual amount."
   ]
  },
  {
   "cell_type": "code",
   "execution_count": 55,
   "metadata": {},
   "outputs": [
    {
     "name": "stdout",
     "output_type": "stream",
     "text": [
      "75931.36\n"
     ]
    }
   ],
   "source": [
    "def extractText(allText, elem):\n",
    "    startIndex = int(elem['textAnchor']['textSegments'][0]['startIndex'])\n",
    "    endIndex = int(elem['textAnchor']['textSegments'][0]['endIndex'])\n",
    "    return allText[startIndex:endIndex].strip()\n",
    "\n",
    "amount = float(extractText(allText, response['pages'][1]['blocks'][6]['layout']))\n",
    "print(amount)"
   ]
  },
  {
   "cell_type": "markdown",
   "metadata": {},
   "source": [
    "### Option 2: Parsing form fields\n",
    "\n",
    "What we did with blocks of text was quite low-level. Document AI understands that forms tend to have key-value pairs, and part of the JSON response includes these extracted key-value pairs as well.\n",
    "\n",
    "Besides FormField Document AI also supports getting Paragraph and Table from the document."
   ]
  },
  {
   "cell_type": "code",
   "execution_count": 47,
   "metadata": {},
   "outputs": [
    {
     "data": {
      "text/plain": [
       "dict_keys(['pageNumber', 'dimension', 'layout', 'blocks', 'paragraphs', 'lines', 'tokens', 'tables', 'formFields'])"
      ]
     },
     "execution_count": 47,
     "metadata": {},
     "output_type": "execute_result"
    }
   ],
   "source": [
    "response['pages'][1].keys()"
   ]
  },
  {
   "cell_type": "code",
   "execution_count": 51,
   "metadata": {},
   "outputs": [
    {
     "data": {
      "text/plain": [
       "{'fieldName': {'textAnchor': {'textSegments': [{'startIndex': '1719',\n",
       "     'endIndex': '1765'}]},\n",
       "  'confidence': 0.9962783,\n",
       "  'boundingPoly': {'normalizedVertices': [{'x': 0.0922335, 'y': 0.24873738},\n",
       "    {'x': 0.4584429, 'y': 0.24873738},\n",
       "    {'x': 0.4584429, 'y': 0.2587827},\n",
       "    {'x': 0.0922335, 'y': 0.2587827}]},\n",
       "  'orientation': 'PAGE_UP'},\n",
       " 'fieldValue': {'textAnchor': {'textSegments': [{'startIndex': '1716',\n",
       "     'endIndex': '1842'}]},\n",
       "  'confidence': 0.9962783,\n",
       "  'boundingPoly': {'normalizedVertices': [{'x': 0.068627454, 'y': 0.24873738},\n",
       "    {'x': 0.90849674, 'y': 0.24873738},\n",
       "    {'x': 0.90849674, 'y': 0.26767677},\n",
       "    {'x': 0.068627454, 'y': 0.26767677}]},\n",
       "  'orientation': 'PAGE_UP'}}"
      ]
     },
     "execution_count": 51,
     "metadata": {},
     "output_type": "execute_result"
    }
   ],
   "source": [
    "response['pages'][1]['formFields'][2]"
   ]
  },
  {
   "cell_type": "code",
   "execution_count": 53,
   "metadata": {},
   "outputs": [
    {
     "name": "stdout",
     "output_type": "stream",
     "text": [
      "key=CASH ON HAND AT BEGINNING OF REPORTING PERIOD\n",
      "value=6. CASH ON HAND AT BEGINNING OF REPORTING PERIOD .............................................................\n",
      "75931.36\n",
      ", , .\n"
     ]
    }
   ],
   "source": [
    "fieldName = extractText(allText, response['pages'][1]['formFields'][2]['fieldName'])\n",
    "fieldValue = extractText(allText, response['pages'][1]['formFields'][2]['fieldValue'])\n",
    "print('key={}\\nvalue={}'.format(fieldName, fieldValue))"
   ]
  },
  {
   "cell_type": "markdown",
   "metadata": {},
   "source": [
    "Enjoy!\n",
    "\n",
    "Copyright 2020 Google Inc. Licensed under the Apache License, Version 2.0 (the \\\"License\\\"); you may not use this file except in compliance with the License. You may obtain a copy of the License at http://www.apache.org/licenses/LICENSE-2.0 Unless required by applicable law or agreed to in writing, software distributed under the License is distributed on an \\\"AS IS\\\" BASIS, WITHOUT WARRANTIES OR CONDITIONS OF ANY KIND, either express or implied. See the License for the specific language governing permissions and limitations under the License"
   ]
  }
 ],
 "metadata": {
  "environment": {
   "name": "tf2-2-3-gpu.2-3.m56",
   "type": "gcloud",
   "uri": "gcr.io/deeplearning-platform-release/tf2-2-3-gpu.2-3:m56"
  },
  "kernelspec": {
   "display_name": "Python 3",
   "language": "python",
   "name": "python3"
  },
  "language_info": {
   "codemirror_mode": {
    "name": "ipython",
    "version": 3
   },
   "file_extension": ".py",
   "mimetype": "text/x-python",
   "name": "python",
   "nbconvert_exporter": "python",
   "pygments_lexer": "ipython3",
   "version": "3.7.8"
  }
 },
 "nbformat": 4,
 "nbformat_minor": 4
}
